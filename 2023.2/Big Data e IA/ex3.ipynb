{
 "cells": [
  {
   "cell_type": "code",
   "execution_count": 6,
   "metadata": {},
   "outputs": [],
   "source": [
    "import pandas as pd\n",
    "import numpy as np"
   ]
  },
  {
   "cell_type": "code",
   "execution_count": 7,
   "metadata": {},
   "outputs": [],
   "source": [
    "medium = 'media'\n",
    "high = 'alta'\n",
    "low = 'baixa'\n",
    "high_quality = 'alta qualidade'\n",
    "low_quality = 'baixa qualidade'\n",
    "\n",
    "df = pd.DataFrame({\n",
    "    'velocidade': [high, medium, high, medium, low, low],\n",
    "    'complexidade': [medium, low, high, high, low, medium],\n",
    "    'manutencao': [low, high, low, low, high, high],\n",
    "    'classificacao': [high_quality, low_quality, high_quality, high_quality, low_quality, low_quality]\n",
    "})"
   ]
  },
  {
   "cell_type": "code",
   "execution_count": 8,
   "metadata": {},
   "outputs": [],
   "source": [
    "from sklearn.preprocessing import LabelEncoder\n",
    "\n",
    "objList = df.select_dtypes(include = \"object\").columns\n",
    "le = LabelEncoder()\n",
    "\n",
    "for obj in objList:\n",
    "    df[obj] = le.fit_transform(df[obj].astype('str'))\n",
    "\n",
    "X = df.drop(['classificacao'], axis=1)\n",
    "y = df[['classificacao']]"
   ]
  },
  {
   "cell_type": "code",
   "execution_count": 9,
   "metadata": {},
   "outputs": [],
   "source": [
    "from sklearn.tree import DecisionTreeClassifier\n",
    "from sklearn.model_selection import train_test_split\n",
    "from sklearn.metrics import accuracy_score"
   ]
  },
  {
   "cell_type": "code",
   "execution_count": 10,
   "metadata": {},
   "outputs": [
    {
     "name": "stdout",
     "output_type": "stream",
     "text": [
      "Precisão: 1.0\n"
     ]
    }
   ],
   "source": [
    "X_train, X_test, y_train, y_test = train_test_split(X, y, test_size=0.2, random_state=100)\n",
    "\n",
    "dtc = DecisionTreeClassifier()\n",
    "tree = dtc.fit(X_train, y_train)\n",
    "y_pred = tree.predict(X_test)\n",
    "\n",
    "print(f'Precisão: {accuracy_score(y_test, y_pred)}')\n"
   ]
  }
 ],
 "metadata": {
  "kernelspec": {
   "display_name": ".venv",
   "language": "python",
   "name": "python3"
  },
  "language_info": {
   "codemirror_mode": {
    "name": "ipython",
    "version": 3
   },
   "file_extension": ".py",
   "mimetype": "text/x-python",
   "name": "python",
   "nbconvert_exporter": "python",
   "pygments_lexer": "ipython3",
   "version": "3.11.4"
  },
  "orig_nbformat": 4
 },
 "nbformat": 4,
 "nbformat_minor": 2
}
